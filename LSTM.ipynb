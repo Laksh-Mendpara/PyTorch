{
  "cells": [
    {
      "cell_type": "code",
      "execution_count": null,
      "metadata": {
        "id": "dP8BjmKapcUO"
      },
      "outputs": [],
      "source": [
        "import numpy as np\n",
        "import pandas as pd\n",
        "import torch\n",
        "import time\n",
        "\n",
        "import nltk\n",
        "from nltk.stem import WordNetLemmatizer\n",
        "from nltk.corpus import stopwords\n",
        "from nltk.lm import Vocabulary\n",
        "\n",
        "import re\n",
        "import spacy\n",
        "import string\n",
        "from sklearn.model_selection import train_test_split\n",
        "\n",
        "from torch.utils.data import Dataset, TensorDataset, DataLoader\n",
        "from torch.nn.utils.rnn import pad_sequence\n",
        "import torch.nn as nn\n",
        "from torch import optim\n",
        "import torch.nn.functional as F"
      ]
    },
    {
      "cell_type": "code",
      "execution_count": null,
      "metadata": {
        "id": "GTu6L-D8JIkq"
      },
      "outputs": [],
      "source": [
        "nltk.download('wordnet')"
      ]
    },
    {
      "cell_type": "code",
      "execution_count": null,
      "metadata": {
        "id": "etaQzh1cIAdg"
      },
      "outputs": [],
      "source": [
        "nltk.download('stopwords')"
      ]
    },
    {
      "cell_type": "code",
      "execution_count": null,
      "metadata": {
        "colab": {
          "base_uri": "https://localhost:8080/",
          "height": 206
        },
        "id": "qNZ0wTKaHLU3",
        "outputId": "de28a8fd-4032-4485-a2f2-469e56174104"
      },
      "outputs": [],
      "source": [
        "df = pd.read_csv('./dataset/IMDB Movie Reviews/movie_data.csv')\n",
        "df.tail()"
      ]
    },
    {
      "cell_type": "code",
      "execution_count": null,
      "metadata": {
        "colab": {
          "base_uri": "https://localhost:8080/",
          "height": 123
        },
        "id": "BQN_s81VHLU4",
        "outputId": "8d658c5f-fa33-4b48-998a-a54a591c7976"
      },
      "outputs": [],
      "source": [
        "df['review'][1]"
      ]
    },
    {
      "cell_type": "code",
      "execution_count": null,
      "metadata": {
        "colab": {
          "base_uri": "https://localhost:8080/"
        },
        "id": "elawOCXiHLU4",
        "outputId": "a506fe35-d13b-431d-a168-31579d94ef66"
      },
      "outputs": [],
      "source": [
        "df['sentiment'] .value_counts()"
      ]
    },
    {
      "cell_type": "code",
      "execution_count": null,
      "metadata": {
        "colab": {
          "base_uri": "https://localhost:8080/"
        },
        "id": "RtKzjAWxHLU5",
        "outputId": "83ac7ac3-75e5-419e-e824-e3dad95fa4d8"
      },
      "outputs": [],
      "source": [
        "df.isnull().sum()"
      ]
    },
    {
      "cell_type": "code",
      "execution_count": null,
      "metadata": {
        "colab": {
          "base_uri": "https://localhost:8080/"
        },
        "id": "2Tufb5jlHLU5",
        "outputId": "321f5c83-a5bb-44fb-ae01-8b8802b6ea28"
      },
      "outputs": [],
      "source": [
        "df.duplicated().sum()"
      ]
    },
    {
      "cell_type": "code",
      "execution_count": null,
      "metadata": {
        "colab": {
          "base_uri": "https://localhost:8080/"
        },
        "id": "RD-kIK2QHLU5",
        "outputId": "b591f6f6-03f6-44ae-e14a-08d920215329"
      },
      "outputs": [],
      "source": [
        "df.drop_duplicates(inplace=True)\n",
        "print(df.duplicated().sum())\n",
        "print(df['sentiment'].value_counts())\n",
        "print(df.shape)"
      ]
    },
    {
      "cell_type": "code",
      "execution_count": null,
      "metadata": {
        "colab": {
          "base_uri": "https://localhost:8080/",
          "height": 206
        },
        "id": "xQNLHL8vHLU6",
        "outputId": "2962c4f1-d882-422f-f385-5e0779195a2f"
      },
      "outputs": [],
      "source": [
        "def remove_tags(text):\n",
        "    cleaned_text = re.sub(re.compile('<.*?>'), '', text)\n",
        "    return cleaned_text\n",
        "\n",
        "df['review'] = df['review'].apply(remove_tags)\n",
        "df.head()"
      ]
    },
    {
      "cell_type": "code",
      "execution_count": null,
      "metadata": {
        "colab": {
          "base_uri": "https://localhost:8080/",
          "height": 206
        },
        "id": "1e8Rp6xnHLU6",
        "outputId": "a0bf368b-c6dd-4ce6-9d97-f9d16a8b9f66"
      },
      "outputs": [],
      "source": [
        "df['review'] = df['review'].str.lower()\n",
        "df.head()"
      ]
    },
    {
      "cell_type": "code",
      "execution_count": null,
      "metadata": {
        "id": "9yBpFWadHLU7"
      },
      "outputs": [],
      "source": [
        "sw_list = stopwords.words('english')\n",
        "# sw_list"
      ]
    },
    {
      "cell_type": "code",
      "execution_count": null,
      "metadata": {
        "colab": {
          "base_uri": "https://localhost:8080/",
          "height": 206
        },
        "id": "2txQTTvxHLU7",
        "outputId": "cef6d4d4-c672-498e-fa11-78a9107084e5"
      },
      "outputs": [],
      "source": [
        "df['review'] = df['review'].apply(lambda x: ' '.join([word for word in x.split() if word not in (sw_list)]))\n",
        "df.head()"
      ]
    },
    {
      "cell_type": "code",
      "execution_count": null,
      "metadata": {
        "colab": {
          "base_uri": "https://localhost:8080/",
          "height": 206
        },
        "id": "lPFXfdF0HLU7",
        "outputId": "1e4d150d-8c20-4836-93a6-a0a81da38510"
      },
      "outputs": [],
      "source": [
        "exclude = string.punctuation\n",
        "\n",
        "def remove_punctuations(text):\n",
        "    return text.translate(str.maketrans('', '', exclude))\n",
        "\n",
        "df['review'] = df['review'].apply(remove_punctuations)\n",
        "df.head()"
      ]
    },
    {
      "cell_type": "code",
      "execution_count": null,
      "metadata": {
        "colab": {
          "base_uri": "https://localhost:8080/",
          "height": 206
        },
        "id": "8k1Gek8BHLU7",
        "outputId": "f053b701-beda-4bc3-ae3f-17e9f1549dec"
      },
      "outputs": [],
      "source": [
        "def remove_numbers(text):\n",
        "    return re.sub(r'\\d+', '', text)\n",
        "\n",
        "df['review'] = df['review'].apply(remove_numbers)\n",
        "df.head()"
      ]
    },
    {
      "cell_type": "code",
      "execution_count": null,
      "metadata": {
        "id": "0nwdQEQzHLU8"
      },
      "outputs": [],
      "source": [
        "# from textblob import TextBlob\n",
        "\n",
        "# def correct_word(text):\n",
        "#     return str(TextBlob(text).correct())\n",
        "\n",
        "# df['review'] = df['review'].apply(correct_word)"
      ]
    },
    {
      "cell_type": "code",
      "execution_count": null,
      "metadata": {
        "colab": {
          "base_uri": "https://localhost:8080/",
          "height": 206
        },
        "id": "5oae7dUMHLU8",
        "outputId": "37b017f5-f904-4de5-df01-e18da0286a6b"
      },
      "outputs": [],
      "source": [
        "def lemma(text):\n",
        "    lemmatizer = WordNetLemmatizer()\n",
        "    return ' '.join([lemmatizer.lemmatize(word) for word in text.split()])\n",
        "\n",
        "df['review'] = df['review'].apply(lemma)\n",
        "df.head()"
      ]
    },
    {
      "cell_type": "markdown",
      "metadata": {
        "id": "NYGXO2KGjMLV"
      },
      "source": [
        "## DataLoader"
      ]
    },
    {
      "cell_type": "code",
      "execution_count": null,
      "metadata": {
        "id": "1TuXhvtujMLY"
      },
      "outputs": [],
      "source": [
        "spacy_eng = spacy.load(\"en_core_web_sm\")"
      ]
    },
    {
      "cell_type": "code",
      "execution_count": null,
      "metadata": {
        "id": "v4gLNiwHjMLY"
      },
      "outputs": [],
      "source": [
        "class CustomVocabulary:\n",
        "    def __init__(self, freq_threshold):\n",
        "        self.itos = {0:\"<PAD>\", 1:\"<SOS>\", 2:\"<EOS>\", 3:\"<UNK>\"}\n",
        "        self.stoi = {\"<PAD>\":0, \"<SOS>\":1, \"<EOS>\":2, \"<UNK>\":3}\n",
        "        self.freq_threshold = freq_threshold\n",
        "\n",
        "    def __len__(self):\n",
        "        return len(self.itos)\n",
        "\n",
        "    @staticmethod\n",
        "    def tokenizer_eng(text):\n",
        "        return [tok.text.lower() for tok in spacy_eng.tokenizer(text)]\n",
        "\n",
        "    def build_vocabulary(self, sentence_list):\n",
        "        all_tokens = [token for sentence in sentence_list for token in self.tokenizer_eng(sentence)]\n",
        "\n",
        "        # Create a Vocabulary object from nltk.lm with the tokens and frequency threshold\n",
        "        vocab = Vocabulary(all_tokens, unk_cutoff=self.freq_threshold)\n",
        "\n",
        "        # Create mappings from word to index and index to word\n",
        "        idx = 4  # Starting index after predefined tokens\n",
        "        for word in vocab:\n",
        "            if word not in self.stoi:  # Avoid overwriting special tokens\n",
        "                self.stoi[word] = idx\n",
        "                self.itos[idx] = word\n",
        "                idx += 1\n",
        "\n",
        "    def numericalize(self, text):\n",
        "        tokenized_text = self.tokenizer_eng(text)\n",
        "        return [self.stoi.get(token, self.stoi[\"<UNK>\"]) for token in tokenized_text]"
      ]
    },
    {
      "cell_type": "code",
      "execution_count": null,
      "metadata": {
        "id": "kjxr4UTnjMLZ"
      },
      "outputs": [],
      "source": [
        "vocab = CustomVocabulary(freq_threshold=5)\n",
        "all_reviews = df['review'].tolist()\n",
        "vocab.build_vocabulary(all_reviews)"
      ]
    },
    {
      "cell_type": "code",
      "execution_count": null,
      "metadata": {
        "id": "zJPa64qIjMLZ"
      },
      "outputs": [],
      "source": [
        "class IMDB_Dataset(Dataset):\n",
        "    def __init__(self, data):\n",
        "        self.data = data\n",
        "\n",
        "    def __len__(self):\n",
        "        return len(self.data)\n",
        "\n",
        "    def __getitem__(self, index):\n",
        "        review = self.data['review'][index]\n",
        "        numericalized_review = [vocab.stoi[\"<SOS>\"]]\n",
        "        numericalized_review += vocab.numericalize(review)\n",
        "        numericalized_review.append(vocab.stoi[\"<EOS>\"])\n",
        "\n",
        "        label = self.data['sentiment'][index]\n",
        "        return torch.tensor(numericalized_review, dtype=torch.float32), torch.tensor(label, dtype=torch.int64)"
      ]
    },
    {
      "cell_type": "code",
      "execution_count": null,
      "metadata": {
        "id": "BUeoITX5jMLZ"
      },
      "outputs": [],
      "source": [
        "class CustomCollate:\n",
        "    def __init__(self, pad_idx, seq_length=250):\n",
        "        self.pad_idx = pad_idx\n",
        "        self.seq_length = seq_length\n",
        "\n",
        "    def pad_text(self, encoded_reviews):\n",
        "        reviews = []\n",
        "        for review in encoded_reviews:\n",
        "            review = review.tolist()  # Convert tensor to list\n",
        "            if len(review) >= self.seq_length:\n",
        "                reviews.append(review[:self.seq_length])\n",
        "            else:\n",
        "                reviews.append([self.pad_idx] * (self.seq_length - len(review)) + review)\n",
        "        return np.array(reviews)\n",
        "\n",
        "    def __call__(self, batch):\n",
        "        reviews = [item[0] for item in batch]\n",
        "        reviews = self.pad_text(reviews)\n",
        "        reviews = torch.tensor(reviews, dtype=torch.int64)\n",
        "        labels = [item[1] for item in batch]\n",
        "        return reviews, torch.tensor(labels, dtype=torch.int64)"
      ]
    },
    {
      "cell_type": "code",
      "execution_count": null,
      "metadata": {
        "id": "E97VHFodjMLZ"
      },
      "outputs": [],
      "source": [
        "def get_loader(data, batch_size, shuffle=False, drop_last=False):\n",
        "    dataset = IMDB_Dataset(data)\n",
        "    pad_idx = vocab.stoi[\"<PAD>\"]\n",
        "    loader = DataLoader(dataset=dataset, batch_size=batch_size, drop_last=drop_last, shuffle=shuffle, collate_fn=CustomCollate(pad_idx))\n",
        "    return loader"
      ]
    },
    {
      "cell_type": "code",
      "execution_count": null,
      "metadata": {
        "id": "GdD38YGajMLa"
      },
      "outputs": [],
      "source": [
        "train_ratio = 0.8\n",
        "valid_ratio = (1 - train_ratio)/2\n",
        "total = len(df)\n",
        "train_cutoff = int(total * train_ratio)\n",
        "valid_cutoff = int(total * (1 - valid_ratio))\n",
        "\n",
        "train_data = df[['review', 'sentiment']][:train_cutoff]\n",
        "valid_data = df[['review', 'sentiment']][train_cutoff : valid_cutoff]\n",
        "test_data = df[['review', 'sentiment']][valid_cutoff : ]\n",
        "\n",
        "train_data.reset_index(inplace= True)\n",
        "valid_data.reset_index(inplace=True)\n",
        "test_data.reset_index(inplace=True)"
      ]
    },
    {
      "cell_type": "code",
      "execution_count": null,
      "metadata": {
        "id": "GwgKnI14jMLa"
      },
      "outputs": [],
      "source": [
        "train_loader = get_loader(train_data, batch_size=128, shuffle=True, drop_last=False)\n",
        "valid_loader = get_loader(valid_data, batch_size=128, shuffle=False, drop_last=False)\n",
        "test_loader = get_loader(test_data, batch_size=128, shuffle=False, drop_last=False)"
      ]
    },
    {
      "cell_type": "code",
      "execution_count": null,
      "metadata": {
        "colab": {
          "base_uri": "https://localhost:8080/"
        },
        "id": "DcWb3O6rjMLa",
        "outputId": "59bb192e-fac9-44b5-cf5c-2b53144c4731"
      },
      "outputs": [],
      "source": [
        "for i, (inp, tar) in enumerate(train_loader):\n",
        "    print(inp.shape)\n",
        "    print(tar.shape)\n",
        "    break\n",
        "\n",
        "for i, (inp, tar) in enumerate(valid_loader):\n",
        "    print(inp.shape)\n",
        "    print(tar.shape)\n",
        "    break\n",
        "\n",
        "for i, (inp, tar) in enumerate(test_loader):\n",
        "    print(inp.shape)\n",
        "    print(tar.shape)\n",
        "    break"
      ]
    },
    {
      "cell_type": "markdown",
      "metadata": {
        "id": "wuMiIoW0jMLb"
      },
      "source": [
        "### LSTM Model"
      ]
    },
    {
      "cell_type": "code",
      "execution_count": null,
      "metadata": {
        "id": "SQpd7dsjpcUa"
      },
      "outputs": [],
      "source": [
        "class RNN(torch.nn.Module):\n",
        "\n",
        "    def __init__(self, input_dim, embedding_dim, hidden_dim, output_dim):\n",
        "        super().__init__()\n",
        "\n",
        "        self.embedding = torch.nn.Embedding(input_dim, embedding_dim)\n",
        "        self.rnn = torch.nn.LSTM(embedding_dim, hidden_dim, bidirectional=True)\n",
        "\n",
        "        self.fc = torch.nn.Linear(hidden_dim * 2, output_dim)  # Multiply hidden_dim by 2\n",
        "\n",
        "    def forward(self, text):\n",
        "        # text dim: [sentence length, batch size]\n",
        "\n",
        "        embedded = self.embedding(text)\n",
        "        # embedded dim: [sentence length, batch size, embedding dim]\n",
        "\n",
        "        output, (hidden, cell) = self.rnn(embedded)\n",
        "        # output dim: [sentence length, batch size, hidden dim * 2]\n",
        "        # hidden dim: [2, batch size, hidden dim] (2 for bidirectional)\n",
        "\n",
        "        # Concatenate the final forward (hidden[-2,:,:]) and backward (hidden[-1,:,:]) hidden states\n",
        "        hidden = torch.cat((hidden[-2,:,:], hidden[-1,:,:]), dim=1)\n",
        "        # hidden dim: [batch size, hidden dim * 2]\n",
        "\n",
        "        # print('output', output.shape)\n",
        "        # print('hidden', hidden.shape)\n",
        "\n",
        "        output = self.fc(hidden)\n",
        "        # output dim: [batch size, output dim]\n",
        "\n",
        "        # print('output after fc', output.shape)\n",
        "\n",
        "        return output"
      ]
    },
    {
      "cell_type": "code",
      "execution_count": null,
      "metadata": {
        "id": "euQo1cwvpcUb"
      },
      "outputs": [],
      "source": [
        "RANDOM_SEED = 123\n",
        "torch.manual_seed(RANDOM_SEED)\n",
        "\n",
        "VOCABULARY_SIZE = 20000\n",
        "LEARNING_RATE = 0.005\n",
        "BATCH_SIZE = 128\n",
        "NUM_EPOCHS = 15\n",
        "DEVICE = torch.device('cuda:0' if torch.cuda.is_available() else 'cpu')\n",
        "\n",
        "EMBEDDING_DIM = 128\n",
        "HIDDEN_DIM = 256\n",
        "NUM_CLASSES = 2"
      ]
    },
    {
      "cell_type": "code",
      "execution_count": null,
      "metadata": {
        "colab": {
          "base_uri": "https://localhost:8080/"
        },
        "id": "HAiRVlGbpcUb",
        "outputId": "a58a4859-e7b4-41b3-dc76-30de18cb626d"
      },
      "outputs": [],
      "source": [
        "print(DEVICE)"
      ]
    },
    {
      "cell_type": "code",
      "execution_count": null,
      "metadata": {
        "id": "XsQS8srrpcUb"
      },
      "outputs": [],
      "source": [
        "torch.manual_seed(RANDOM_SEED)\n",
        "model = RNN(input_dim=len(vocab.stoi),\n",
        "            embedding_dim=EMBEDDING_DIM,\n",
        "            hidden_dim=HIDDEN_DIM,\n",
        "            output_dim=NUM_CLASSES # could use 1 for binary classification\n",
        ")\n",
        "\n",
        "model = model.to(DEVICE)\n",
        "optimizer = torch.optim.Adam(model.parameters(), lr=0.005)"
      ]
    },
    {
      "cell_type": "code",
      "execution_count": null,
      "metadata": {
        "id": "8s1GP_4OpcUb"
      },
      "outputs": [],
      "source": [
        "def compute_accuracy(model, data_loader, device):\n",
        "\n",
        "    with torch.no_grad():\n",
        "\n",
        "        correct_pred, num_examples = 0, 0\n",
        "\n",
        "        for i, (features, targets) in enumerate(train_loader):\n",
        "            model.eval()\n",
        "\n",
        "            features = torch.transpose(features, 1, 0)\n",
        "            targets = targets.long()\n",
        "\n",
        "            features = features.long().to(DEVICE)\n",
        "            targets = targets.to(DEVICE)\n",
        "\n",
        "            logits = model(features)\n",
        "            _, predicted_labels = torch.max(logits, 1)\n",
        "\n",
        "            num_examples += targets.size(0)\n",
        "            correct_pred += (predicted_labels == targets).sum()\n",
        "    return correct_pred.float()/num_examples * 100"
      ]
    },
    {
      "cell_type": "code",
      "execution_count": null,
      "metadata": {
        "colab": {
          "base_uri": "https://localhost:8080/"
        },
        "id": "Eqx00ilVpcUb",
        "outputId": "480e0922-db07-4983-bd28-0379fda1dc1f"
      },
      "outputs": [],
      "source": [
        "start_time = time.time()\n",
        "\n",
        "for epoch in range(NUM_EPOCHS):\n",
        "    model.train()\n",
        "    for batch_idx, (text, labels) in enumerate(train_loader):\n",
        "\n",
        "        text = torch.transpose(text, 1, 0)\n",
        "        labels = labels.long()\n",
        "\n",
        "        text = text.long().to(DEVICE)\n",
        "        labels = labels.to(DEVICE)\n",
        "\n",
        "        # print('input', text.shape)\n",
        "        # print('label', labels.shape)\n",
        "\n",
        "        ### FORWARD AND BACK PROP\n",
        "        logits = model(text)\n",
        "\n",
        "        # print('logits', logits.shape)\n",
        "\n",
        "        loss = F.cross_entropy(logits, labels)\n",
        "        optimizer.zero_grad()\n",
        "\n",
        "        loss.backward()\n",
        "\n",
        "        ### UPDATE MODEL PARAMETERS\n",
        "        optimizer.step()\n",
        "\n",
        "\n",
        "        ### LOGGING\n",
        "        if not batch_idx % 50:\n",
        "            print (f'Epoch: {epoch+1:03d}/{NUM_EPOCHS:03d} | '\n",
        "                   f'Batch {batch_idx:03d}/{len(train_loader):03d} | '\n",
        "                   f'Loss: {loss:.4f}')\n",
        "\n",
        "\n",
        "    with torch.set_grad_enabled(False):\n",
        "        print(f'training accuracy: '\n",
        "              f'{compute_accuracy(model, train_loader, DEVICE):.2f}%'\n",
        "              f'\\nvalid accuracy: '\n",
        "              f'{compute_accuracy(model, valid_loader, DEVICE):.2f}%')\n",
        "\n",
        "    print(f'Time elapsed: {(time.time() - start_time)/60:.2f} min')\n",
        "\n",
        "print(f'Total Training Time: {(time.time() - start_time)/60:.2f} min')\n",
        "print(f'Test accuracy: {compute_accuracy(model, test_loader, DEVICE):.2f}%')"
      ]
    },
    {
      "cell_type": "code",
      "execution_count": null,
      "metadata": {
        "id": "lIFQhP-asU9F"
      },
      "outputs": [],
      "source": [
        "def pad_single_text(review, seq_length):\n",
        "\n",
        "    if len(review) >= seq_length:\n",
        "        return (review[:seq_length])\n",
        "    else:\n",
        "        return ([0]*(seq_length-len(review)) + review)"
      ]
    },
    {
      "cell_type": "code",
      "execution_count": null,
      "metadata": {
        "id": "tV1HwRlnseJo"
      },
      "outputs": [],
      "source": [
        "def preprocess(text):\n",
        "  text = remove_tags(text)\n",
        "  text = text.lower()\n",
        "  text = ' '.join([word for word in text.split() if word not in (sw_list)])\n",
        "  text = remove_numbers(text)\n",
        "  text = remove_punctuations(text)\n",
        "  text = lemma(text)\n",
        "  tokenized = [vocab.stoi[\"<SOS>\"]]\n",
        "  tokenized += vocab.numericalize(text)\n",
        "  tokenized.append(vocab.stoi[\"<EOS>\"])\n",
        "  pad_texts = pad_single_text(tokenized, 250)\n",
        "  return torch.tensor(pad_texts)"
      ]
    },
    {
      "cell_type": "code",
      "execution_count": null,
      "metadata": {
        "colab": {
          "base_uri": "https://localhost:8080/"
        },
        "id": "k3LEMy46sfZy",
        "outputId": "bda0796a-dfff-42b3-933a-246ba343b488"
      },
      "outputs": [],
      "source": [
        "def predict_sentiment(model, sentence):\n",
        "\n",
        "    model.eval()\n",
        "    tensor = preprocess(sentence).view(-1, 1).to(DEVICE)\n",
        "    prediction = torch.nn.functional.softmax(model(tensor), dim=1)\n",
        "    prob_positive = prediction[0][1].item()\n",
        "\n",
        "    if (prob_positive>=0.5):\n",
        "      print('Probability positive:', prob_positive)\n",
        "    else:\n",
        "      print('Probability negative:', 1-prob_positive)\n",
        "\n",
        "predict_sentiment(model, \"This is such an awesome movie, I really love it!\")"
      ]
    },
    {
      "cell_type": "code",
      "execution_count": null,
      "metadata": {
        "colab": {
          "base_uri": "https://localhost:8080/"
        },
        "id": "Q8yWCIu-tChS",
        "outputId": "c149d093-e9e3-42af-ead8-2839e381021b"
      },
      "outputs": [],
      "source": [
        "predict_sentiment(model, \"I really hate this movie, it is really bad and sucks!\")"
      ]
    },
    {
      "cell_type": "code",
      "execution_count": null,
      "metadata": {
        "colab": {
          "base_uri": "https://localhost:8080/"
        },
        "id": "eCPhZAwowF3C",
        "outputId": "d5a92f24-62df-40ca-c619-8b0b1c54756c"
      },
      "outputs": [],
      "source": [
        "predict_sentiment(model, \"coulde be much more better\")"
      ]
    }
  ],
  "metadata": {
    "accelerator": "GPU",
    "colab": {
      "gpuType": "T4",
      "provenance": []
    },
    "kernelspec": {
      "display_name": "Python 3",
      "name": "python3"
    },
    "language_info": {
      "codemirror_mode": {
        "name": "ipython",
        "version": 3
      },
      "file_extension": ".py",
      "mimetype": "text/x-python",
      "name": "python",
      "nbconvert_exporter": "python",
      "pygments_lexer": "ipython3",
      "version": "3.10.13"
    }
  },
  "nbformat": 4,
  "nbformat_minor": 0
}
