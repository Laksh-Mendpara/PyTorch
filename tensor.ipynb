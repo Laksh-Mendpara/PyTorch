{
 "cells": [
  {
   "cell_type": "code",
   "execution_count": 286,
   "metadata": {},
   "outputs": [],
   "source": [
    "import torch\n",
    "import numpy as np"
   ]
  },
  {
   "cell_type": "markdown",
   "metadata": {},
   "source": [
    "### Initializing Tensor"
   ]
  },
  {
   "cell_type": "code",
   "execution_count": 287,
   "metadata": {},
   "outputs": [
    {
     "name": "stdout",
     "output_type": "stream",
     "text": [
      "torch.Size([2, 3])\n",
      "cpu\n",
      "True\n",
      "torch.float32\n"
     ]
    }
   ],
   "source": [
    "device = torch.device('cuda:0' if torch.cuda.is_available() else 'cpu')\n",
    "\n",
    "my_tensor = torch.tensor([[1, 2, 3], [4, 5, 6]], dtype = torch.float32, device = device, requires_grad=True)\n",
    "\n",
    "print(my_tensor.shape)\n",
    "print(my_tensor.device)\n",
    "print(my_tensor.requires_grad)\n",
    "print(my_tensor.dtype)"
   ]
  },
  {
   "cell_type": "code",
   "execution_count": 288,
   "metadata": {},
   "outputs": [
    {
     "name": "stdout",
     "output_type": "stream",
     "text": [
      "tensor([[-5.9737e+28,  8.3658e-43,  3.0359e-01],\n",
      "        [ 7.7926e-01,  7.2484e-01,  2.7056e-01],\n",
      "        [ 8.9000e-02,  1.9808e-01,  8.9079e-01]])\n",
      "torch.float32\n"
     ]
    }
   ],
   "source": [
    "x = torch.empty(size = (3, 3))\n",
    "print(x)\n",
    "print(x.dtype)"
   ]
  },
  {
   "cell_type": "code",
   "execution_count": 289,
   "metadata": {},
   "outputs": [
    {
     "name": "stdout",
     "output_type": "stream",
     "text": [
      "tensor([[0., 0., 0.],\n",
      "        [0., 0., 0.],\n",
      "        [0., 0., 0.]])\n",
      "torch.float32\n"
     ]
    }
   ],
   "source": [
    "x = torch.zeros((3, 3))\n",
    "print(x)\n",
    "print(x.dtype)"
   ]
  },
  {
   "cell_type": "code",
   "execution_count": 290,
   "metadata": {},
   "outputs": [
    {
     "name": "stdout",
     "output_type": "stream",
     "text": [
      "tensor([[0.7785, 0.7979, 0.3168],\n",
      "        [0.2856, 0.7729, 0.5828],\n",
      "        [0.9594, 0.6471, 0.6729]])\n",
      "torch.float32\n"
     ]
    }
   ],
   "source": [
    "x = torch.rand((3, 3))\n",
    "print(x)\n",
    "print(x.dtype)"
   ]
  },
  {
   "cell_type": "code",
   "execution_count": 291,
   "metadata": {},
   "outputs": [
    {
     "name": "stdout",
     "output_type": "stream",
     "text": [
      "tensor([[1., 1., 1.],\n",
      "        [1., 1., 1.],\n",
      "        [1., 1., 1.]])\n",
      "torch.float32\n"
     ]
    }
   ],
   "source": [
    "x = torch.ones((3, 3))\n",
    "print(x)\n",
    "print(x.dtype)"
   ]
  },
  {
   "cell_type": "code",
   "execution_count": 292,
   "metadata": {},
   "outputs": [
    {
     "name": "stdout",
     "output_type": "stream",
     "text": [
      "tensor([[1., 0., 0.],\n",
      "        [0., 1., 0.],\n",
      "        [0., 0., 1.]])\n",
      "torch.float32\n"
     ]
    }
   ],
   "source": [
    "x = torch.eye(3)\n",
    "print(x)\n",
    "print(x.dtype)"
   ]
  },
  {
   "cell_type": "code",
   "execution_count": 293,
   "metadata": {},
   "outputs": [
    {
     "name": "stdout",
     "output_type": "stream",
     "text": [
      "tensor([0., 2., 4.])\n",
      "torch.float32\n"
     ]
    }
   ],
   "source": [
    "x = torch.arange(start=0, end=5, step=2, dtype=torch.float32)\n",
    "print(x)\n",
    "print(x.dtype)"
   ]
  },
  {
   "cell_type": "code",
   "execution_count": 294,
   "metadata": {},
   "outputs": [
    {
     "name": "stdout",
     "output_type": "stream",
     "text": [
      "tensor([0.0000, 2.5000, 5.0000])\n",
      "torch.float32\n"
     ]
    }
   ],
   "source": [
    "x = torch.linspace(start=0, end=5, steps=3)\n",
    "print(x)\n",
    "print(x.dtype)"
   ]
  },
  {
   "cell_type": "code",
   "execution_count": 295,
   "metadata": {},
   "outputs": [
    {
     "name": "stdout",
     "output_type": "stream",
     "text": [
      "tensor([ 0.7505, -0.6315, -0.2528])\n",
      "torch.float32\n"
     ]
    }
   ],
   "source": [
    "x = x.normal_(mean=0, std=1)\n",
    "print(x)\n",
    "print(x.dtype)"
   ]
  },
  {
   "cell_type": "code",
   "execution_count": 296,
   "metadata": {},
   "outputs": [
    {
     "name": "stdout",
     "output_type": "stream",
     "text": [
      "tensor([[0.0544, 0.5007, 0.1548],\n",
      "        [0.3241, 0.3494, 0.7268],\n",
      "        [0.2116, 0.6833, 0.3397]])\n",
      "torch.float32\n"
     ]
    }
   ],
   "source": [
    "x = torch.empty((3, 3)).uniform_(0, 1)\n",
    "print(x)\n",
    "print(x.dtype)"
   ]
  },
  {
   "cell_type": "code",
   "execution_count": 297,
   "metadata": {},
   "outputs": [
    {
     "name": "stdout",
     "output_type": "stream",
     "text": [
      "tensor([[1, 0, 0],\n",
      "        [0, 2, 0],\n",
      "        [0, 0, 3]])\n",
      "torch.int64\n"
     ]
    }
   ],
   "source": [
    "x = torch.diag(torch.tensor([1, 2, 3]))\n",
    "print(x)\n",
    "print(x.dtype)"
   ]
  },
  {
   "cell_type": "code",
   "execution_count": 298,
   "metadata": {},
   "outputs": [
    {
     "name": "stdout",
     "output_type": "stream",
     "text": [
      "tensor([False,  True,  True,  True])\n",
      "torch.float32\n",
      "tensor([0, 1, 2, 3])\n",
      "tensor([0., 1., 2., 3.], dtype=torch.float16)\n",
      "tensor([0., 1., 2., 3.])\n",
      "tensor([0., 1., 2., 3.], dtype=torch.float64)\n"
     ]
    }
   ],
   "source": [
    "tensor = torch.arange(4, dtype=torch.float32)\n",
    "print(tensor.bool())\n",
    "print(tensor.dtype)\n",
    "print(tensor.long())\n",
    "print(tensor.half())\n",
    "print(tensor.float())\n",
    "print(tensor.double())"
   ]
  },
  {
   "cell_type": "code",
   "execution_count": 299,
   "metadata": {},
   "outputs": [
    {
     "name": "stdout",
     "output_type": "stream",
     "text": [
      "tensor([[0., 0., 0., 0., 0.],\n",
      "        [0., 0., 0., 0., 0.],\n",
      "        [0., 0., 0., 0., 0.],\n",
      "        [0., 0., 0., 0., 0.],\n",
      "        [0., 0., 0., 0., 0.]])\n",
      "torch.float32\n"
     ]
    }
   ],
   "source": [
    "np_array = np.zeros((5, 5), dtype = np.float32)\n",
    "tensor = torch.from_numpy(np_array)\n",
    "print(tensor)\n",
    "print(tensor.dtype)"
   ]
  },
  {
   "cell_type": "code",
   "execution_count": 300,
   "metadata": {},
   "outputs": [
    {
     "name": "stdout",
     "output_type": "stream",
     "text": [
      "[[0. 0. 0. 0. 0.]\n",
      " [0. 0. 0. 0. 0.]\n",
      " [0. 0. 0. 0. 0.]\n",
      " [0. 0. 0. 0. 0.]\n",
      " [0. 0. 0. 0. 0.]]\n",
      "float32\n",
      "(5, 5)\n"
     ]
    }
   ],
   "source": [
    "np_array_back = tensor.numpy()\n",
    "print(np_array_back)\n",
    "print(np_array_back.dtype)\n",
    "print(np_array_back.shape)"
   ]
  },
  {
   "cell_type": "code",
   "execution_count": 301,
   "metadata": {},
   "outputs": [],
   "source": [
    "del x"
   ]
  },
  {
   "cell_type": "markdown",
   "metadata": {},
   "source": [
    "### Tensor Math and Comparison Operations"
   ]
  },
  {
   "cell_type": "code",
   "execution_count": 302,
   "metadata": {},
   "outputs": [
    {
     "name": "stdout",
     "output_type": "stream",
     "text": [
      "tensor([5., 7., 9.])\n",
      "tensor([5., 7., 9.])\n",
      "tensor([5., 7., 9.])\n"
     ]
    }
   ],
   "source": [
    "X = torch.tensor([1, 2, 3], dtype = torch.float32, device=device)\n",
    "Y = torch.tensor([4, 5, 6], dtype = torch.float32, device=device)\n",
    "\n",
    "z1 = torch.empty(3)\n",
    "torch.add(X, Y, out=z1)\n",
    "print(z1)\n",
    "\n",
    "z2 = torch.add(X, Y)\n",
    "print(z2)\n",
    "\n",
    "z3 = X + Y\n",
    "print(z3)"
   ]
  },
  {
   "cell_type": "code",
   "execution_count": 303,
   "metadata": {},
   "outputs": [
    {
     "name": "stdout",
     "output_type": "stream",
     "text": [
      "tensor([3., 3., 3.])\n",
      "tensor([3., 3., 3.])\n",
      "tensor([3., 3., 3.])\n"
     ]
    }
   ],
   "source": [
    "torch.subtract(Y, X, out=z1)\n",
    "z2 = torch.subtract(Y, X)\n",
    "z3 = Y - X\n",
    "\n",
    "print(z1)\n",
    "print(z2)\n",
    "print(z3)"
   ]
  },
  {
   "cell_type": "code",
   "execution_count": 304,
   "metadata": {},
   "outputs": [
    {
     "name": "stdout",
     "output_type": "stream",
     "text": [
      "tensor([4.0000, 2.5000, 2.0000])\n",
      "tensor([4.0000, 2.5000, 2.0000])\n",
      "tensor([4.0000, 2.5000, 2.0000])\n"
     ]
    }
   ],
   "source": [
    "torch.true_divide(Y, X, out=z1)\n",
    "z2 = torch.true_divide(Y, X)\n",
    "z3 = Y / X\n",
    "\n",
    "print(z1)\n",
    "print(z2)\n",
    "print(z3)"
   ]
  },
  {
   "cell_type": "code",
   "execution_count": 305,
   "metadata": {},
   "outputs": [
    {
     "name": "stdout",
     "output_type": "stream",
     "text": [
      "tensor([1., 2., 3.])\n"
     ]
    }
   ],
   "source": [
    "t = torch.zeros(3)\n",
    "t.add_(X)\n",
    "print(t)"
   ]
  },
  {
   "cell_type": "code",
   "execution_count": 306,
   "metadata": {},
   "outputs": [
    {
     "name": "stdout",
     "output_type": "stream",
     "text": [
      "tensor([1., 4., 9.])\n",
      "tensor([1., 4., 9.])\n"
     ]
    }
   ],
   "source": [
    "z = X.pow(2)\n",
    "print(z)\n",
    "z = X**2\n",
    "print(z)"
   ]
  },
  {
   "cell_type": "code",
   "execution_count": 307,
   "metadata": {},
   "outputs": [
    {
     "name": "stdout",
     "output_type": "stream",
     "text": [
      "tensor([False,  True,  True])\n"
     ]
    }
   ],
   "source": [
    "print(X>1)"
   ]
  },
  {
   "cell_type": "code",
   "execution_count": 308,
   "metadata": {},
   "outputs": [
    {
     "name": "stdout",
     "output_type": "stream",
     "text": [
      "tensor([ 4., 10., 18.])\n",
      "tensor(32.)\n",
      "tensor(32.)\n"
     ]
    }
   ],
   "source": [
    "print(X*Y)\n",
    "\n",
    "## Dot Product\n",
    "print(X.dot(Y))\n",
    "print(X@Y)"
   ]
  },
  {
   "cell_type": "code",
   "execution_count": 309,
   "metadata": {},
   "outputs": [
    {
     "name": "stdout",
     "output_type": "stream",
     "text": [
      "tensor([[1.2747, 0.7423, 1.0047],\n",
      "        [1.4600, 0.8258, 1.3672]])\n",
      "tensor([[1.2747, 0.7423, 1.0047],\n",
      "        [1.4600, 0.8258, 1.3672]])\n"
     ]
    }
   ],
   "source": [
    "x1 = torch.rand((2, 5))\n",
    "x2 = torch.rand((5, 3))\n",
    "\n",
    "x3 = torch.mm(x1, x2)\n",
    "print(x3)\n",
    "x3 = x1.mm(x2)\n",
    "print(x3)"
   ]
  },
  {
   "cell_type": "code",
   "execution_count": 310,
   "metadata": {},
   "outputs": [
    {
     "name": "stdout",
     "output_type": "stream",
     "text": [
      "tensor([[2.1409, 1.7413, 1.1479, 1.4474, 1.5073],\n",
      "        [0.8278, 1.0355, 0.4647, 1.0244, 0.3618],\n",
      "        [1.6356, 1.2283, 1.0190, 1.4534, 0.8471],\n",
      "        [1.4182, 1.5545, 0.9512, 1.5831, 0.7144],\n",
      "        [1.6879, 1.4222, 1.1915, 1.4869, 0.8986]])\n"
     ]
    }
   ],
   "source": [
    "matrix_exp = torch.rand((5, 5))\n",
    "print(matrix_exp.matrix_power(2))"
   ]
  },
  {
   "cell_type": "code",
   "execution_count": 311,
   "metadata": {},
   "outputs": [
    {
     "name": "stdout",
     "output_type": "stream",
     "text": [
      "torch.Size([32, 10, 30])\n"
     ]
    }
   ],
   "source": [
    "batch = 32\n",
    "n = 10\n",
    "m = 20\n",
    "p = 30\n",
    "\n",
    "tensor1 = torch.rand((batch, n, m))  ## 10 x 20\n",
    "tensor2 = torch.rand((batch, m, p))  ## 20 x 30\n",
    "\n",
    "out_bmm = torch.bmm(tensor1, tensor2)  ## 10 x 30\n",
    "\n",
    "print(out_bmm.shape)"
   ]
  },
  {
   "cell_type": "code",
   "execution_count": 312,
   "metadata": {},
   "outputs": [
    {
     "name": "stdout",
     "output_type": "stream",
     "text": [
      "tensor([[2, 4, 6],\n",
      "        [5, 7, 9]])\n",
      "tensor([[0, 0, 0],\n",
      "        [3, 3, 3]])\n",
      "tensor([[ 1,  4,  9],\n",
      "        [ 4, 10, 18]])\n",
      "tensor([[  1,   4,  27],\n",
      "        [  4,  25, 216]])\n"
     ]
    }
   ],
   "source": [
    "x1 = torch.tensor([[1, 2, 3], [4, 5, 6]])\n",
    "x2 = torch.tensor([1, 2, 3])\n",
    "\n",
    "print(x1+x2)\n",
    "print(x1-x2)\n",
    "print(x1*x2)\n",
    "print(x1**x2)"
   ]
  },
  {
   "cell_type": "code",
   "execution_count": 313,
   "metadata": {},
   "outputs": [
    {
     "name": "stdout",
     "output_type": "stream",
     "text": [
      "tensor([[1, 2, 3],\n",
      "        [4, 5, 6],\n",
      "        [7, 8, 9]])\n",
      "torch.Size([3, 3])\n",
      "tensor([ 6, 15, 24])\n"
     ]
    }
   ],
   "source": [
    "x = torch.tensor([[1, 2, 3], [4, 5, 6], [7, 8, 9]])\n",
    "print(x)\n",
    "print(x.shape)\n",
    "\n",
    "print(torch.sum(x, dim=1))"
   ]
  },
  {
   "cell_type": "code",
   "execution_count": 314,
   "metadata": {},
   "outputs": [
    {
     "name": "stdout",
     "output_type": "stream",
     "text": [
      "tensor([ 2,  1, 20,  0])\n"
     ]
    }
   ],
   "source": [
    "a = torch.tensor([-2, 1, -20, 0])\n",
    "abs_a = torch.abs(a)\n",
    "print(abs_a)"
   ]
  },
  {
   "cell_type": "code",
   "execution_count": 315,
   "metadata": {},
   "outputs": [
    {
     "name": "stdout",
     "output_type": "stream",
     "text": [
      "tensor([3, 6, 9]) tensor([2, 2, 2])\n",
      "tensor([1, 4, 7]) tensor([0, 0, 0])\n"
     ]
    }
   ],
   "source": [
    "value_max, index_max = torch.max(x, dim=1)\n",
    "value_min, index_min = torch.min(x, dim=1)\n",
    "\n",
    "print(value_max, index_max)\n",
    "print(value_min, index_min)"
   ]
  },
  {
   "cell_type": "code",
   "execution_count": 316,
   "metadata": {},
   "outputs": [
    {
     "name": "stdout",
     "output_type": "stream",
     "text": [
      "tensor([2, 2, 2])\n",
      "tensor([0, 0, 0])\n"
     ]
    }
   ],
   "source": [
    "z = torch.argmax(x, dim=1)\n",
    "print(z)\n",
    "\n",
    "z = torch.argmin(x, dim=1)\n",
    "print(z)"
   ]
  },
  {
   "cell_type": "code",
   "execution_count": 317,
   "metadata": {},
   "outputs": [
    {
     "name": "stdout",
     "output_type": "stream",
     "text": [
      "tensor([2., 5., 8.])\n"
     ]
    }
   ],
   "source": [
    "print(torch.mean(x.float(), dim=1))"
   ]
  },
  {
   "cell_type": "code",
   "execution_count": 318,
   "metadata": {},
   "outputs": [
    {
     "name": "stdout",
     "output_type": "stream",
     "text": [
      "tensor([False, False, False])\n"
     ]
    }
   ],
   "source": [
    "print(torch.eq(X, Y))"
   ]
  },
  {
   "cell_type": "code",
   "execution_count": 319,
   "metadata": {},
   "outputs": [
    {
     "name": "stdout",
     "output_type": "stream",
     "text": [
      "torch.return_types.sort(\n",
      "values=tensor([[7, 8, 9],\n",
      "        [4, 5, 6],\n",
      "        [1, 2, 3]]),\n",
      "indices=tensor([[2, 2, 2],\n",
      "        [1, 1, 1],\n",
      "        [0, 0, 0]]))\n"
     ]
    }
   ],
   "source": [
    "print(torch.sort(x, dim=0, descending=True))"
   ]
  },
  {
   "cell_type": "code",
   "execution_count": 320,
   "metadata": {},
   "outputs": [
    {
     "name": "stdout",
     "output_type": "stream",
     "text": [
      "tensor([[2, 2, 3],\n",
      "        [4, 5, 6],\n",
      "        [7, 8, 8]])\n"
     ]
    }
   ],
   "source": [
    "print(torch.clamp(x, min=2, max=8))"
   ]
  },
  {
   "cell_type": "code",
   "execution_count": 321,
   "metadata": {},
   "outputs": [
    {
     "name": "stdout",
     "output_type": "stream",
     "text": [
      "tensor(True)\n",
      "tensor(False)\n"
     ]
    }
   ],
   "source": [
    "x = torch.tensor([0, 0, 1], dtype=torch.bool)\n",
    "# print(x.any())\n",
    "print(torch.any(x))\n",
    "print(x.all())"
   ]
  },
  {
   "cell_type": "markdown",
   "metadata": {},
   "source": [
    "### Tensor Indexing"
   ]
  },
  {
   "cell_type": "code",
   "execution_count": 322,
   "metadata": {},
   "outputs": [
    {
     "name": "stdout",
     "output_type": "stream",
     "text": [
      "torch.Size([16, 25])\n"
     ]
    }
   ],
   "source": [
    "batch_size = 16\n",
    "features= 25\n",
    "\n",
    "x = torch.rand((batch_size, features))\n",
    "print(x.shape)"
   ]
  },
  {
   "cell_type": "code",
   "execution_count": 323,
   "metadata": {},
   "outputs": [
    {
     "name": "stdout",
     "output_type": "stream",
     "text": [
      "torch.Size([25])\n",
      "torch.Size([25])\n"
     ]
    }
   ],
   "source": [
    "## access 1st element\n",
    "print(x[0].shape)\n",
    "print(x[0, :].shape)"
   ]
  },
  {
   "cell_type": "code",
   "execution_count": 324,
   "metadata": {},
   "outputs": [
    {
     "name": "stdout",
     "output_type": "stream",
     "text": [
      "tensor([2, 4, 5, 8])\n"
     ]
    }
   ],
   "source": [
    "x = torch.arange(10)\n",
    "indices = [2, 4, 5, 8]\n",
    "print(x[indices])"
   ]
  },
  {
   "cell_type": "code",
   "execution_count": 325,
   "metadata": {},
   "outputs": [
    {
     "name": "stdout",
     "output_type": "stream",
     "text": [
      "tensor([[ 0,  1,  2,  3],\n",
      "        [ 4,  5,  6,  7],\n",
      "        [ 8,  9, 10, 11],\n",
      "        [12, 13, 14, 15]])\n"
     ]
    }
   ],
   "source": [
    "x = torch.arange(16)\n",
    "x = x.reshape(4, -1)\n",
    "print(x)"
   ]
  },
  {
   "cell_type": "code",
   "execution_count": 326,
   "metadata": {},
   "outputs": [
    {
     "name": "stdout",
     "output_type": "stream",
     "text": [
      "tensor([0, 9])\n"
     ]
    }
   ],
   "source": [
    "rows = torch.tensor([0, 2])\n",
    "cols = torch.tensor([0, 1])\n",
    "\n",
    "print(x[rows, cols])  ## printing (0,0) & (2,1) element of x"
   ]
  },
  {
   "cell_type": "code",
   "execution_count": 327,
   "metadata": {},
   "outputs": [
    {
     "name": "stdout",
     "output_type": "stream",
     "text": [
      "tensor([ 0,  1, 18, 19])\n",
      "tensor([ 0,  2,  4,  6,  8, 10, 12, 14, 16, 18])\n"
     ]
    }
   ],
   "source": [
    "x = torch.arange(20)\n",
    "\n",
    "print(x[(x<2) | (x>17)])\n",
    "print(x[x.remainder(2)==0])"
   ]
  },
  {
   "cell_type": "code",
   "execution_count": 328,
   "metadata": {},
   "outputs": [
    {
     "name": "stdout",
     "output_type": "stream",
     "text": [
      "tensor([  0,   2,   4,   6,   8,  10,  -6,  -7,  -8,  -9, -10, -11, -12, -13,\n",
      "        -14, -15, -16, -17, -18, -19])\n"
     ]
    }
   ],
   "source": [
    "x = torch.arange(20)\n",
    "\n",
    "y = torch.where(x>5, -x, 2*x)\n",
    "print(y)"
   ]
  },
  {
   "cell_type": "code",
   "execution_count": 329,
   "metadata": {},
   "outputs": [
    {
     "name": "stdout",
     "output_type": "stream",
     "text": [
      "tensor([1, 2, 3, 4, 5, 6])\n",
      "2\n",
      "9\n"
     ]
    }
   ],
   "source": [
    "x = torch.tensor([[1, 2, 3], [4, 5, 1], [3, 2, 6]])\n",
    "print(x.unique())\n",
    "print(x.ndimension())\n",
    "print(x.numel()) ## count total elements"
   ]
  },
  {
   "cell_type": "markdown",
   "metadata": {},
   "source": [
    "### Tensor Reshaping"
   ]
  },
  {
   "cell_type": "code",
   "execution_count": 330,
   "metadata": {},
   "outputs": [
    {
     "name": "stdout",
     "output_type": "stream",
     "text": [
      "tensor([[0, 1, 2],\n",
      "        [3, 4, 5],\n",
      "        [6, 7, 8]])\n",
      "tensor([[0, 1, 2],\n",
      "        [3, 4, 5],\n",
      "        [6, 7, 8]])\n",
      "tensor([[0, 3, 6],\n",
      "        [1, 4, 7],\n",
      "        [2, 5, 8]])\n"
     ]
    }
   ],
   "source": [
    "x = torch.arange(9)\n",
    "\n",
    "x = x.view(3,3)      ## only reshape contiguous matrix\n",
    "print(x)\n",
    "x = x.reshape(3,3)   ## can reshape both contiguous and non-contiguous matrix\n",
    "print(x)\n",
    "x = x.t()\n",
    "print(x)"
   ]
  },
  {
   "cell_type": "code",
   "execution_count": 331,
   "metadata": {},
   "outputs": [
    {
     "name": "stdout",
     "output_type": "stream",
     "text": [
      "error using view\n",
      "tensor([0, 3, 6, 1, 4, 7, 2, 5, 8])\n"
     ]
    }
   ],
   "source": [
    "try:\n",
    "    x = x.view(9)\n",
    "except:\n",
    "    print('error using view')\n",
    "    x = x.contiguous().view(9)\n",
    "    ## or try using reshape\n",
    "print(x)"
   ]
  },
  {
   "cell_type": "code",
   "execution_count": 334,
   "metadata": {},
   "outputs": [
    {
     "name": "stdout",
     "output_type": "stream",
     "text": [
      "torch.Size([4, 5])\n",
      "torch.Size([2, 10])\n"
     ]
    }
   ],
   "source": [
    "x1 = torch.rand((2, 5))\n",
    "x2 = torch.rand((2, 5))\n",
    "\n",
    "print(torch.cat((x1, x2), dim=0).shape)\n",
    "print(torch.cat((x1, x2), dim=1).shape)"
   ]
  },
  {
   "cell_type": "code",
   "execution_count": 335,
   "metadata": {},
   "outputs": [
    {
     "name": "stdout",
     "output_type": "stream",
     "text": [
      "torch.Size([10])\n"
     ]
    }
   ],
   "source": [
    "print(x1.view(-1).shape)"
   ]
  },
  {
   "cell_type": "code",
   "execution_count": 341,
   "metadata": {},
   "outputs": [
    {
     "name": "stdout",
     "output_type": "stream",
     "text": [
      "torch.Size([64, 10])\n",
      "torch.Size([64, 5, 2])\n"
     ]
    }
   ],
   "source": [
    "batch = 64\n",
    "z = torch.rand((batch, 2, 5))\n",
    "print(z.view(batch, -1).shape)\n",
    "print(z.permute(0, 2, 1).shape)"
   ]
  },
  {
   "cell_type": "code",
   "execution_count": 347,
   "metadata": {},
   "outputs": [
    {
     "name": "stdout",
     "output_type": "stream",
     "text": [
      "torch.Size([1, 10])\n",
      "torch.Size([10, 1])\n",
      "torch.Size([1, 1, 10])\n"
     ]
    }
   ],
   "source": [
    "x = torch.arange(10)\n",
    "\n",
    "print(x.unsqueeze(dim=0).shape)\n",
    "print(x.unsqueeze(dim=1).shape)\n",
    "print(torch.arange(10).unsqueeze(0).unsqueeze(1).shape)"
   ]
  },
  {
   "cell_type": "code",
   "execution_count": 351,
   "metadata": {},
   "outputs": [
    {
     "name": "stdout",
     "output_type": "stream",
     "text": [
      "torch.Size([1, 10])\n",
      "torch.Size([10])\n"
     ]
    }
   ],
   "source": [
    "x = torch.arange(10)\n",
    "\n",
    "x = x.unsqueeze(dim=0)\n",
    "print(x.shape)\n",
    "\n",
    "x = x.squeeze(0)\n",
    "print(x.shape)"
   ]
  }
 ],
 "metadata": {
  "kernelspec": {
   "display_name": "Python 3",
   "language": "python",
   "name": "python3"
  },
  "language_info": {
   "codemirror_mode": {
    "name": "ipython",
    "version": 3
   },
   "file_extension": ".py",
   "mimetype": "text/x-python",
   "name": "python",
   "nbconvert_exporter": "python",
   "pygments_lexer": "ipython3",
   "version": "3.11.4"
  }
 },
 "nbformat": 4,
 "nbformat_minor": 2
}
