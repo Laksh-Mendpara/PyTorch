{
 "cells": [
  {
   "cell_type": "code",
   "execution_count": null,
   "metadata": {},
   "outputs": [],
   "source": [
    "import torch\n",
    "import os\n",
    "import torch.nn as nn\n",
    "import torch.optim as optim\n",
    "from PIL import Image\n",
    "import torchvision.transforms as transforms\n",
    "import torchvision.models as models\n",
    "from torchvision.utils import save_image"
   ]
  },
  {
   "cell_type": "code",
   "execution_count": null,
   "metadata": {},
   "outputs": [],
   "source": [
    "image_size = 356\n",
    "DEVICE = torch.device('cuda:0' if torch.cuda.is_available() else 'cpu')\n",
    "print(DEVICE)"
   ]
  },
  {
   "cell_type": "code",
   "execution_count": null,
   "metadata": {},
   "outputs": [],
   "source": [
    "class VGG(nn.Module):\n",
    "    def __init__(self):\n",
    "        super(VGG, self).__init__()\n",
    "        self.chosen_layers = ['0', '5', '10', '19', '28']\n",
    "        self.model = models.vgg19(pretrained=True).features[:29]\n",
    "        \n",
    "    def forward(self, x):\n",
    "        features = []\n",
    "        for layer_num, layer in enumerate(self.model):\n",
    "            x = layer(x)\n",
    "            if str(layer_num) in self.chosen_layers:\n",
    "                features.append(x)\n",
    "                \n",
    "        return features"
   ]
  },
  {
   "cell_type": "code",
   "execution_count": null,
   "metadata": {},
   "outputs": [],
   "source": [
    "loader = transforms.Compose(\n",
    "    [\n",
    "        transforms.Resize((image_size, image_size)),\n",
    "        transforms.ToTensor()\n",
    "    ]\n",
    ")\n",
    "\n",
    "def load_image(image_name, root_dir='../data/'):\n",
    "    image = Image.open(os.path.join(root_dir, image_name)).convert('RGB')\n",
    "    image = loader(image).unsqueeze(0)\n",
    "    return image.to(DEVICE)"
   ]
  },
  {
   "cell_type": "code",
   "execution_count": null,
   "metadata": {},
   "outputs": [],
   "source": [
    "original_image = load_image('ori.png')\n",
    "style_image = load_image('sty.png')\n",
    "generated = original_image.clone().requires_grad_(True)"
   ]
  },
  {
   "cell_type": "code",
   "execution_count": null,
   "metadata": {},
   "outputs": [],
   "source": [
    "print(original_image.shape)\n",
    "print(style_image.shape)\n",
    "print(generated.shape)"
   ]
  },
  {
   "cell_type": "code",
   "execution_count": null,
   "metadata": {},
   "outputs": [],
   "source": [
    "total_steps = 6000\n",
    "learning_rate = 1e-3\n",
    "alpha=1\n",
    "beta=0.1\n",
    "model = VGG().to(DEVICE).eval()\n",
    "optimizer = torch.optim.Adam([generated], lr=learning_rate)"
   ]
  },
  {
   "cell_type": "code",
   "execution_count": null,
   "metadata": {},
   "outputs": [],
   "source": [
    "for step in range(total_steps):\n",
    "    generated_features = model(generated)\n",
    "    original_img_features = model(original_image)\n",
    "    style_features = model(style_image)\n",
    "    \n",
    "    style_loss = original_loss = 0\n",
    "    \n",
    "    for gen_feature, orig_feature, style_feature in zip(generated_features, original_img_features, style_features):\n",
    "        \n",
    "        batch_size, channel, height, width = gen_feature.shape\n",
    "        original_loss += torch.mean((gen_feature - orig_feature)**2)\n",
    "        \n",
    "        ## Compute Gram Matrix\n",
    "        G = gen_feature.view(channel, height*width).mm(gen_feature.view(channel, height*width).t())\n",
    "        A = style_feature.view(channel, height*width).mm(style_feature.view(channel, height*width).t())\n",
    "        \n",
    "        style_loss += torch.mean((G - A)**2)\n",
    "        \n",
    "    total_loss = alpha*original_loss + beta*style_loss\n",
    "    \n",
    "    optimizer.zero_grad()\n",
    "    total_loss.backward()\n",
    "    optimizer.step()\n",
    "    \n",
    "    if step%100 == 0:\n",
    "        print(f'step - {step}/{total_steps} || loss - {total_loss}')\n",
    "        \n",
    "    if step%1000 == 0:\n",
    "        save_image(generated, '{}_generated_image.png'.format(step))"
   ]
  }
 ],
 "metadata": {
  "kernelspec": {
   "display_name": "Python 3",
   "language": "python",
   "name": "python3"
  },
  "language_info": {
   "codemirror_mode": {
    "name": "ipython",
    "version": 3
   },
   "file_extension": ".py",
   "mimetype": "text/x-python",
   "name": "python",
   "nbconvert_exporter": "python",
   "pygments_lexer": "ipython3",
   "version": "3.11.4"
  }
 },
 "nbformat": 4,
 "nbformat_minor": 2
}
